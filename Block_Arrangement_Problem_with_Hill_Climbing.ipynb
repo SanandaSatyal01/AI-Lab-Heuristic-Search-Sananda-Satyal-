{
  "nbformat": 4,
  "nbformat_minor": 0,
  "metadata": {
    "colab": {
      "provenance": []
    },
    "kernelspec": {
      "name": "python3",
      "display_name": "Python 3"
    },
    "language_info": {
      "name": "python"
    }
  },
  "cells": [
    {
      "cell_type": "code",
      "execution_count": 1,
      "metadata": {
        "colab": {
          "base_uri": "https://localhost:8080/"
        },
        "id": "EM5-VoM4Bgyb",
        "outputId": "828eeac7-aa0c-4c3d-a8f1-7ad81741d850"
      },
      "outputs": [
        {
          "output_type": "stream",
          "name": "stdout",
          "text": [
            "Initial Stack: ['C', 'A', 'D', 'B']\n",
            "Initial Heuristic: 4\n",
            "\n",
            "Checking Neighbor (Swap positions 0 and 1): ['A', 'C', 'D', 'B']\n",
            "Heuristic: 3\n",
            "\n",
            "Checking Neighbor (Swap positions 1 and 2): ['A', 'D', 'C', 'B']\n",
            "Heuristic: 2\n",
            "\n",
            "Checking Neighbor (Swap positions 0 and 1): ['D', 'A', 'C', 'B']\n",
            "Heuristic: 3\n",
            "\n",
            "Hill Climbing Stuck at: ['A', 'D', 'C', 'B']\n",
            "\n",
            "Solution Path:\n",
            "['C', 'A', 'D', 'B']\n",
            "['A', 'C', 'D', 'B']\n",
            "['A', 'D', 'C', 'B']\n"
          ]
        }
      ],
      "source": [
        "def heuristic(state, goal):\n",
        "\n",
        "    return sum(1 for s, g in zip(state, goal) if s != g)\n",
        "\n",
        "\n",
        "def hill_climb(start, goal):\n",
        "    current = start[:]\n",
        "    path = [current[:]]\n",
        "    print(\"Initial Stack:\", current)\n",
        "    print(\"Initial Heuristic:\", heuristic(current, goal))\n",
        "\n",
        "    while True:\n",
        "        neighbors = []\n",
        "        for i in range(len(current) - 1):\n",
        "            neighbor = current[:]\n",
        "            neighbor[i], neighbor[i + 1] = neighbor[i + 1], neighbor[i]\n",
        "            neighbors.append((neighbor, heuristic(neighbor, goal), i))\n",
        "\n",
        "\n",
        "        neighbors.sort(key=lambda x: x[1])\n",
        "        best_neighbor, best_h, move_index = neighbors[0]\n",
        "\n",
        "        print(\"\\nChecking Neighbor (Swap positions {} and {}): {}\".format(move_index, move_index + 1, best_neighbor))\n",
        "        print(\"Heuristic:\", best_h)\n",
        "\n",
        "        if best_h >= heuristic(current, goal):\n",
        "\n",
        "            print(\"\\nHill Climbing Stuck at:\", current)\n",
        "            return path\n",
        "\n",
        "\n",
        "        current = best_neighbor\n",
        "        path.append(current[:])\n",
        "\n",
        "        if current == goal:\n",
        "            print(\"\\nGoal Reached!\")\n",
        "            return path\n",
        "\n",
        "\n",
        "\n",
        "start_stack = ['C', 'A', 'D', 'B']\n",
        "goal_stack = ['A', 'B', 'C', 'D']\n",
        "\n",
        "solution_path = hill_climb(start_stack, goal_stack)\n",
        "\n",
        "print(\"\\nSolution Path:\")\n",
        "for step in solution_path:\n",
        "    print(step)\n"
      ]
    }
  ]
}